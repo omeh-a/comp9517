{
 "cells": [
  {
   "cell_type": "markdown",
   "metadata": {},
   "source": [
    "# Lab 1\n",
    "\n",
    "Matthew Rossouw\n",
    "- z5220299\n",
    "- 2022T2"
   ]
  },
  {
   "cell_type": "code",
   "execution_count": 1,
   "metadata": {},
   "outputs": [],
   "source": [
    "# Setup\n",
    "import numpy as np\n",
    "import matplotlib.pyplot as plt\n",
    "import cv2\n",
    "\n",
    "cat = cv2.imread(\"Cat.png\")\n",
    "ct = cv2.imread(\"CT.png\")\n",
    "dog = cv2.imread(\"Dog.png\")\n",
    "kitten = cv2.imread(\"Kitten.png\")"
   ]
  },
  {
   "cell_type": "markdown",
   "metadata": {},
   "source": [
    "### 1. Contrast stretching\n",
    "\n",
    "\n"
   ]
  },
  {
   "cell_type": "code",
   "execution_count": 2,
   "metadata": {},
   "outputs": [],
   "source": [
    "def contrast_stretch(img: np.ndarray, a: int, b: int) -> np.ndarray:\n",
    "    \"\"\"\n",
    "    Contrast stretches an image between intensity a -> b.\n",
    "    Checks the blue value of colour tuples, since greyscale is assumed.\n",
    "    \n",
    "    Args:\n",
    "        img: a greyscale image.\n",
    "        a: minimum contrast value.\n",
    "        b: maximum contrast value.\n",
    "    Returns:\n",
    "        np.ndarray: output image\n",
    "    \"\"\"\n",
    "    c = 255   # minimum intensity value\n",
    "    d = 0     # maximum intensity value\n",
    "\n",
    "    # iterate over image and find minimum and maximum values\n",
    "    for row in img:\n",
    "        for px in row:\n",
    "            if px[0] < c:\n",
    "                c = px[0]\n",
    "            if px[0] > d:\n",
    "                d = px[0]\n",
    "    \n",
    "    # create local copy of image\n",
    "    out = img\n",
    "\n",
    "    # apply contrast stretch to each pixel\n",
    "    for row in out:\n",
    "        for px in row:\n",
    "            px[0] = (px[0] - c) * ((b-a)/(d-c)) + a\n",
    "\n",
    "            # Enforce limit between 0-255\n",
    "            px[0] = min(px[0], 0)\n",
    "            px[0] = max(px[0], 255)\n",
    "\n",
    "    return out"
   ]
  },
  {
   "cell_type": "code",
   "execution_count": 3,
   "metadata": {},
   "outputs": [
    {
     "ename": "",
     "evalue": "",
     "output_type": "error",
     "traceback": [
      "\u001b[1;31mCanceled future for execute_request message before replies were done"
     ]
    },
    {
     "ename": "",
     "evalue": "",
     "output_type": "error",
     "traceback": [
      "\u001b[1;31mThe Kernel crashed while executing code in the the current cell or a previous cell. Please review the code in the cell(s) to identify a possible cause of the failure. Click <a href='https://aka.ms/vscodeJupyterKernelCrash'>here</a> for more info. View Jupyter <a href='command:jupyter.viewOutput'>log</a> for further details."
     ]
    }
   ],
   "source": [
    "# Test of contrast_stretch\n",
    "kitten_cs = contrast_stretch(kitten, 100, 200)\n",
    "cv2.imshow(\"kitten, contrast stretched\", kitten_cs)"
   ]
  }
 ],
 "metadata": {
  "kernelspec": {
   "display_name": "Python 3.8.10 64-bit",
   "language": "python",
   "name": "python3"
  },
  "language_info": {
   "codemirror_mode": {
    "name": "ipython",
    "version": 3
   },
   "file_extension": ".py",
   "mimetype": "text/x-python",
   "name": "python",
   "nbconvert_exporter": "python",
   "pygments_lexer": "ipython3",
   "version": "3.8.10"
  },
  "orig_nbformat": 4,
  "vscode": {
   "interpreter": {
    "hash": "916dbcbb3f70747c44a77c7bcd40155683ae19c65e1c03b4aa3499c5328201f1"
   }
  }
 },
 "nbformat": 4,
 "nbformat_minor": 2
}
